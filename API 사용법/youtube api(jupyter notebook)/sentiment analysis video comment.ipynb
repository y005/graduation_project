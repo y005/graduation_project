{
 "cells": [
  {
   "cell_type": "markdown",
   "id": "dd3fd8a0",
   "metadata": {},
   "source": [
    "#1 자연어 처리 학습시키기"
   ]
  },
  {
   "cell_type": "code",
   "execution_count": 1,
   "id": "a0d017cf",
   "metadata": {},
   "outputs": [],
   "source": [
    "from konlpy.tag import Okt\n",
    "okt = Okt()"
   ]
  },
  {
   "cell_type": "code",
   "execution_count": 2,
   "id": "f08bc05f",
   "metadata": {},
   "outputs": [],
   "source": [
    "# 모델 불러오기(학습데이터: 네이버 영화 평가)\n",
    "from keras.models import load_model\n",
    "model = load_model('movie_review_model.h5')"
   ]
  },
  {
   "cell_type": "code",
   "execution_count": 3,
   "id": "d9407201",
   "metadata": {},
   "outputs": [],
   "source": [
    "def tokenize(doc):\n",
    "    #형태소와 품사를 join\n",
    "    return ['/'.join(t) for t in okt.pos(doc, norm=True, stem=True)]"
   ]
  },
  {
   "cell_type": "code",
   "execution_count": 4,
   "id": "3d9befc3",
   "metadata": {},
   "outputs": [],
   "source": [
    "import pandas as pd\n",
    "train_df = pd.read_csv(\"ratings_train.txt\", \"\\t\")"
   ]
  },
  {
   "cell_type": "code",
   "execution_count": 5,
   "id": "4b95d816",
   "metadata": {},
   "outputs": [],
   "source": [
    "train_df.isnull().any() #document에 null값이 있다.\n",
    "train_df['document'] = train_df['document'].fillna(''); #null값을 ''값으로 대체"
   ]
  },
  {
   "cell_type": "code",
   "execution_count": 6,
   "id": "ff196d56",
   "metadata": {},
   "outputs": [],
   "source": [
    "#tokenize 과정은 시간이 오래 걸릴수 있음...\n",
    "train_docs = [(tokenize(row[1]), row[2]) for row in train_df.values]"
   ]
  },
  {
   "cell_type": "code",
   "execution_count": 7,
   "id": "268c0a0a",
   "metadata": {},
   "outputs": [
    {
     "name": "stdout",
     "output_type": "stream",
     "text": [
      "토큰개수: 2159921\n"
     ]
    }
   ],
   "source": [
    "tokens = [t for d in train_docs for t in d[0]]\n",
    "print(\"토큰개수:\", len(tokens))"
   ]
  },
  {
   "cell_type": "code",
   "execution_count": 8,
   "id": "cd037279",
   "metadata": {},
   "outputs": [],
   "source": [
    "import nltk\n",
    "import numpy as np\n",
    "text = nltk.Text(tokens, name='NMSC')"
   ]
  },
  {
   "cell_type": "code",
   "execution_count": 9,
   "id": "8b4381bd",
   "metadata": {},
   "outputs": [],
   "source": [
    "FREQUENCY_COUNT = 100; #시간적 여유가 있다면 100개를 해보도록~\n",
    "selected_words = [f[0] for f in text.vocab().most_common(FREQUENCY_COUNT)]"
   ]
  },
  {
   "cell_type": "code",
   "execution_count": 10,
   "id": "34bdf60b",
   "metadata": {},
   "outputs": [],
   "source": [
    "#영화평가에서 사용된 단어리스트 문서에서 상위 100개들중 포함되는 단어들이 개수\n",
    "def term_frequency(doc):\n",
    "    return [doc.count(word) for word in selected_words]"
   ]
  },
  {
   "cell_type": "code",
   "execution_count": 11,
   "id": "b302ccbf",
   "metadata": {},
   "outputs": [],
   "source": [
    "def predict_sentiment(review):\n",
    "    token = tokenize(review)\n",
    "    tfq = term_frequency(token)\n",
    "    data = np.expand_dims(np.asarray(tfq).astype('float32'), axis=0)\n",
    "    score = float(model.predict(data))\n",
    "    #if(score > 0.5):\n",
    "        #print(f\"{review} ==> 긍정 ({round(score*100)}%)\")\n",
    "    #else:\n",
    "        #print(f\"{review} ==> 부정 ({round((1-score)*100)}%)\")\n",
    "    return score"
   ]
  },
  {
   "cell_type": "code",
   "execution_count": 12,
   "id": "bd70d30c",
   "metadata": {},
   "outputs": [
    {
     "data": {
      "text/plain": [
       "0.07519051432609558"
      ]
     },
     "execution_count": 12,
     "metadata": {},
     "output_type": "execute_result"
    }
   ],
   "source": [
    "predict_sentiment(\"재미 정말 없어요\")"
   ]
  },
  {
   "cell_type": "code",
   "execution_count": 13,
   "id": "fe584461",
   "metadata": {},
   "outputs": [
    {
     "data": {
      "text/plain": [
       "0.5579190850257874"
      ]
     },
     "execution_count": 13,
     "metadata": {},
     "output_type": "execute_result"
    }
   ],
   "source": [
    "predict_sentiment(\"괜찮\")"
   ]
  },
  {
   "cell_type": "code",
   "execution_count": 14,
   "id": "dbe3b889",
   "metadata": {},
   "outputs": [
    {
     "data": {
      "text/plain": [
       "0.7493253350257874"
      ]
     },
     "execution_count": 14,
     "metadata": {},
     "output_type": "execute_result"
    }
   ],
   "source": [
    "predict_sentiment(\"카카오 주가 전망 오히려 지금이 매력적인 이유\")"
   ]
  },
  {
   "cell_type": "markdown",
   "id": "6e608693",
   "metadata": {},
   "source": [
    "#2 분석할 댓글 데이터 가져오기"
   ]
  },
  {
   "cell_type": "code",
   "execution_count": 15,
   "id": "1871ecd2",
   "metadata": {},
   "outputs": [],
   "source": [
    "youtube = pd.read_csv('카카오 댓글(20_4~21_7).csv')"
   ]
  },
  {
   "cell_type": "code",
   "execution_count": 16,
   "id": "b0118eb4",
   "metadata": {},
   "outputs": [
    {
     "data": {
      "text/html": [
       "<div>\n",
       "<style scoped>\n",
       "    .dataframe tbody tr th:only-of-type {\n",
       "        vertical-align: middle;\n",
       "    }\n",
       "\n",
       "    .dataframe tbody tr th {\n",
       "        vertical-align: top;\n",
       "    }\n",
       "\n",
       "    .dataframe thead th {\n",
       "        text-align: right;\n",
       "    }\n",
       "</style>\n",
       "<table border=\"1\" class=\"dataframe\">\n",
       "  <thead>\n",
       "    <tr style=\"text-align: right;\">\n",
       "      <th></th>\n",
       "      <th>Stock</th>\n",
       "      <th>Date</th>\n",
       "      <th>Video ID</th>\n",
       "      <th>Comment</th>\n",
       "      <th>Comment Like</th>\n",
       "    </tr>\n",
       "  </thead>\n",
       "  <tbody>\n",
       "    <tr>\n",
       "      <th>0</th>\n",
       "      <td>카카오</td>\n",
       "      <td>2020-07-03</td>\n",
       "      <td>GAj_h1lhoTA</td>\n",
       "      <td>SK증권에서 5/21일 추천 드린 15개 종목은 다음과 같습니다.&lt;br&gt;&lt;br&gt;1)...</td>\n",
       "      <td>26.0</td>\n",
       "    </tr>\n",
       "    <tr>\n",
       "      <th>1</th>\n",
       "      <td>카카오</td>\n",
       "      <td>2020-07-03</td>\n",
       "      <td>GAj_h1lhoTA</td>\n",
       "      <td>니프티는 글로벌라이제아션때문에 오른거지 내수때매 오른건 아니지안나 진정한 내수주 네...</td>\n",
       "      <td>5.0</td>\n",
       "    </tr>\n",
       "    <tr>\n",
       "      <th>2</th>\n",
       "      <td>카카오</td>\n",
       "      <td>2020-07-04</td>\n",
       "      <td>GYUUCCJL5FQ</td>\n",
       "      <td>저는 솔직히 카카오 재섭어서 카드론 받아서 천만원 박았는데 수익나서 이번에 천만원 ...</td>\n",
       "      <td>2.0</td>\n",
       "    </tr>\n",
       "    <tr>\n",
       "      <th>3</th>\n",
       "      <td>카카오</td>\n",
       "      <td>2020-07-04</td>\n",
       "      <td>GYUUCCJL5FQ</td>\n",
       "      <td>카카오 담주 월욜에도 오를까요??</td>\n",
       "      <td>1.0</td>\n",
       "    </tr>\n",
       "    <tr>\n",
       "      <th>4</th>\n",
       "      <td>카카오</td>\n",
       "      <td>2020-07-04</td>\n",
       "      <td>GYUUCCJL5FQ</td>\n",
       "      <td>오늘 처음 왔어요&lt;br&gt;목소리 짱..설명짱입니다&lt;br&gt;카카오.네이버..지금 사도 괜...</td>\n",
       "      <td>4.0</td>\n",
       "    </tr>\n",
       "    <tr>\n",
       "      <th>...</th>\n",
       "      <td>...</td>\n",
       "      <td>...</td>\n",
       "      <td>...</td>\n",
       "      <td>...</td>\n",
       "      <td>...</td>\n",
       "    </tr>\n",
       "    <tr>\n",
       "      <th>5797</th>\n",
       "      <td>카카오</td>\n",
       "      <td>2021-07-31</td>\n",
       "      <td>EfHM_K5sTt8</td>\n",
       "      <td>영두형~~  나  카카오 145000에  100주 재입성했옹 잘한거맞징???</td>\n",
       "      <td>19.0</td>\n",
       "    </tr>\n",
       "    <tr>\n",
       "      <th>5798</th>\n",
       "      <td>카카오</td>\n",
       "      <td>2021-07-31</td>\n",
       "      <td>EfHM_K5sTt8</td>\n",
       "      <td>파워풀회장님 임실장님&lt;br&gt;넘 잼나요 중독성 있어욤&lt;br&gt;좋은정보 희망적인 말씀 감...</td>\n",
       "      <td>17.0</td>\n",
       "    </tr>\n",
       "    <tr>\n",
       "      <th>5799</th>\n",
       "      <td>카카오</td>\n",
       "      <td>2021-07-31</td>\n",
       "      <td>EKP0vM39oqc</td>\n",
       "      <td>카카오뱅크는 아시다시피 8월 6일 상장입니다.</td>\n",
       "      <td>5.0</td>\n",
       "    </tr>\n",
       "    <tr>\n",
       "      <th>5800</th>\n",
       "      <td>카카오</td>\n",
       "      <td>2021-07-31</td>\n",
       "      <td>EKP0vM39oqc</td>\n",
       "      <td>항상 감사드리고 주말에도 수고 많으십니다 많은 분들이 아시겠지만 카카오뱅크공모는 다...</td>\n",
       "      <td>13.0</td>\n",
       "    </tr>\n",
       "    <tr>\n",
       "      <th>5801</th>\n",
       "      <td>카카오</td>\n",
       "      <td>2021-07-31</td>\n",
       "      <td>EKP0vM39oqc</td>\n",
       "      <td>오늘도 유익한 정보 고맙습니다!! 카카오뱅크는 8월 6일(금) 상장입니다.</td>\n",
       "      <td>1.0</td>\n",
       "    </tr>\n",
       "  </tbody>\n",
       "</table>\n",
       "<p>5802 rows × 5 columns</p>\n",
       "</div>"
      ],
      "text/plain": [
       "     Stock        Date     Video ID  \\\n",
       "0      카카오  2020-07-03  GAj_h1lhoTA   \n",
       "1      카카오  2020-07-03  GAj_h1lhoTA   \n",
       "2      카카오  2020-07-04  GYUUCCJL5FQ   \n",
       "3      카카오  2020-07-04  GYUUCCJL5FQ   \n",
       "4      카카오  2020-07-04  GYUUCCJL5FQ   \n",
       "...    ...         ...          ...   \n",
       "5797   카카오  2021-07-31  EfHM_K5sTt8   \n",
       "5798   카카오  2021-07-31  EfHM_K5sTt8   \n",
       "5799   카카오  2021-07-31  EKP0vM39oqc   \n",
       "5800   카카오  2021-07-31  EKP0vM39oqc   \n",
       "5801   카카오  2021-07-31  EKP0vM39oqc   \n",
       "\n",
       "                                                Comment  Comment Like  \n",
       "0     SK증권에서 5/21일 추천 드린 15개 종목은 다음과 같습니다.<br><br>1)...          26.0  \n",
       "1     니프티는 글로벌라이제아션때문에 오른거지 내수때매 오른건 아니지안나 진정한 내수주 네...           5.0  \n",
       "2     저는 솔직히 카카오 재섭어서 카드론 받아서 천만원 박았는데 수익나서 이번에 천만원 ...           2.0  \n",
       "3                                    카카오 담주 월욜에도 오를까요??           1.0  \n",
       "4     오늘 처음 왔어요<br>목소리 짱..설명짱입니다<br>카카오.네이버..지금 사도 괜...           4.0  \n",
       "...                                                 ...           ...  \n",
       "5797         영두형~~  나  카카오 145000에  100주 재입성했옹 잘한거맞징???          19.0  \n",
       "5798  파워풀회장님 임실장님<br>넘 잼나요 중독성 있어욤<br>좋은정보 희망적인 말씀 감...          17.0  \n",
       "5799                          카카오뱅크는 아시다시피 8월 6일 상장입니다.           5.0  \n",
       "5800  항상 감사드리고 주말에도 수고 많으십니다 많은 분들이 아시겠지만 카카오뱅크공모는 다...          13.0  \n",
       "5801          오늘도 유익한 정보 고맙습니다!! 카카오뱅크는 8월 6일(금) 상장입니다.           1.0  \n",
       "\n",
       "[5802 rows x 5 columns]"
      ]
     },
     "execution_count": 16,
     "metadata": {},
     "output_type": "execute_result"
    }
   ],
   "source": [
    "youtube"
   ]
  },
  {
   "cell_type": "code",
   "execution_count": 17,
   "id": "1b06c646",
   "metadata": {},
   "outputs": [
    {
     "name": "stderr",
     "output_type": "stream",
     "text": [
      "<ipython-input-17-46c5d2287979>:5: SettingWithCopyWarning: \n",
      "A value is trying to be set on a copy of a slice from a DataFrame\n",
      "\n",
      "See the caveats in the documentation: https://pandas.pydata.org/pandas-docs/stable/user_guide/indexing.html#returning-a-view-versus-a-copy\n",
      "  youtube['Sentiment Score'][i] = predict_sentiment(youtube['Comment'][i])\n"
     ]
    },
    {
     "data": {
      "text/html": [
       "<div>\n",
       "<style scoped>\n",
       "    .dataframe tbody tr th:only-of-type {\n",
       "        vertical-align: middle;\n",
       "    }\n",
       "\n",
       "    .dataframe tbody tr th {\n",
       "        vertical-align: top;\n",
       "    }\n",
       "\n",
       "    .dataframe thead th {\n",
       "        text-align: right;\n",
       "    }\n",
       "</style>\n",
       "<table border=\"1\" class=\"dataframe\">\n",
       "  <thead>\n",
       "    <tr style=\"text-align: right;\">\n",
       "      <th></th>\n",
       "      <th>Stock</th>\n",
       "      <th>Date</th>\n",
       "      <th>Video ID</th>\n",
       "      <th>Comment</th>\n",
       "      <th>Comment Like</th>\n",
       "      <th>Sentiment Score</th>\n",
       "      <th>Sentiment</th>\n",
       "    </tr>\n",
       "  </thead>\n",
       "  <tbody>\n",
       "    <tr>\n",
       "      <th>0</th>\n",
       "      <td>카카오</td>\n",
       "      <td>2020-07-03</td>\n",
       "      <td>GAj_h1lhoTA</td>\n",
       "      <td>SK증권에서 5/21일 추천 드린 15개 종목은 다음과 같습니다.&lt;br&gt;&lt;br&gt;1)...</td>\n",
       "      <td>26.0</td>\n",
       "      <td>0.482406</td>\n",
       "      <td>긍정</td>\n",
       "    </tr>\n",
       "    <tr>\n",
       "      <th>1</th>\n",
       "      <td>카카오</td>\n",
       "      <td>2020-07-03</td>\n",
       "      <td>GAj_h1lhoTA</td>\n",
       "      <td>니프티는 글로벌라이제아션때문에 오른거지 내수때매 오른건 아니지안나 진정한 내수주 네...</td>\n",
       "      <td>5.0</td>\n",
       "      <td>0.255938</td>\n",
       "      <td>긍정</td>\n",
       "    </tr>\n",
       "    <tr>\n",
       "      <th>2</th>\n",
       "      <td>카카오</td>\n",
       "      <td>2020-07-04</td>\n",
       "      <td>GYUUCCJL5FQ</td>\n",
       "      <td>저는 솔직히 카카오 재섭어서 카드론 받아서 천만원 박았는데 수익나서 이번에 천만원 ...</td>\n",
       "      <td>2.0</td>\n",
       "      <td>0.362936</td>\n",
       "      <td>긍정</td>\n",
       "    </tr>\n",
       "    <tr>\n",
       "      <th>3</th>\n",
       "      <td>카카오</td>\n",
       "      <td>2020-07-04</td>\n",
       "      <td>GYUUCCJL5FQ</td>\n",
       "      <td>카카오 담주 월욜에도 오를까요??</td>\n",
       "      <td>1.0</td>\n",
       "      <td>0.557919</td>\n",
       "      <td>긍정</td>\n",
       "    </tr>\n",
       "    <tr>\n",
       "      <th>4</th>\n",
       "      <td>카카오</td>\n",
       "      <td>2020-07-04</td>\n",
       "      <td>GYUUCCJL5FQ</td>\n",
       "      <td>오늘 처음 왔어요&lt;br&gt;목소리 짱..설명짱입니다&lt;br&gt;카카오.네이버..지금 사도 괜...</td>\n",
       "      <td>4.0</td>\n",
       "      <td>0.593762</td>\n",
       "      <td>긍정</td>\n",
       "    </tr>\n",
       "    <tr>\n",
       "      <th>...</th>\n",
       "      <td>...</td>\n",
       "      <td>...</td>\n",
       "      <td>...</td>\n",
       "      <td>...</td>\n",
       "      <td>...</td>\n",
       "      <td>...</td>\n",
       "      <td>...</td>\n",
       "    </tr>\n",
       "    <tr>\n",
       "      <th>5797</th>\n",
       "      <td>카카오</td>\n",
       "      <td>2021-07-31</td>\n",
       "      <td>EfHM_K5sTt8</td>\n",
       "      <td>영두형~~  나  카카오 145000에  100주 재입성했옹 잘한거맞징???</td>\n",
       "      <td>19.0</td>\n",
       "      <td>0.499954</td>\n",
       "      <td>긍정</td>\n",
       "    </tr>\n",
       "    <tr>\n",
       "      <th>5798</th>\n",
       "      <td>카카오</td>\n",
       "      <td>2021-07-31</td>\n",
       "      <td>EfHM_K5sTt8</td>\n",
       "      <td>파워풀회장님 임실장님&lt;br&gt;넘 잼나요 중독성 있어욤&lt;br&gt;좋은정보 희망적인 말씀 감...</td>\n",
       "      <td>17.0</td>\n",
       "      <td>0.962954</td>\n",
       "      <td>긍정</td>\n",
       "    </tr>\n",
       "    <tr>\n",
       "      <th>5799</th>\n",
       "      <td>카카오</td>\n",
       "      <td>2021-07-31</td>\n",
       "      <td>EKP0vM39oqc</td>\n",
       "      <td>카카오뱅크는 아시다시피 8월 6일 상장입니다.</td>\n",
       "      <td>5.0</td>\n",
       "      <td>0.395436</td>\n",
       "      <td>긍정</td>\n",
       "    </tr>\n",
       "    <tr>\n",
       "      <th>5800</th>\n",
       "      <td>카카오</td>\n",
       "      <td>2021-07-31</td>\n",
       "      <td>EKP0vM39oqc</td>\n",
       "      <td>항상 감사드리고 주말에도 수고 많으십니다 많은 분들이 아시겠지만 카카오뱅크공모는 다...</td>\n",
       "      <td>13.0</td>\n",
       "      <td>0.322591</td>\n",
       "      <td>긍정</td>\n",
       "    </tr>\n",
       "    <tr>\n",
       "      <th>5801</th>\n",
       "      <td>카카오</td>\n",
       "      <td>2021-07-31</td>\n",
       "      <td>EKP0vM39oqc</td>\n",
       "      <td>오늘도 유익한 정보 고맙습니다!! 카카오뱅크는 8월 6일(금) 상장입니다.</td>\n",
       "      <td>1.0</td>\n",
       "      <td>0.585281</td>\n",
       "      <td>긍정</td>\n",
       "    </tr>\n",
       "  </tbody>\n",
       "</table>\n",
       "<p>5802 rows × 7 columns</p>\n",
       "</div>"
      ],
      "text/plain": [
       "     Stock        Date     Video ID  \\\n",
       "0      카카오  2020-07-03  GAj_h1lhoTA   \n",
       "1      카카오  2020-07-03  GAj_h1lhoTA   \n",
       "2      카카오  2020-07-04  GYUUCCJL5FQ   \n",
       "3      카카오  2020-07-04  GYUUCCJL5FQ   \n",
       "4      카카오  2020-07-04  GYUUCCJL5FQ   \n",
       "...    ...         ...          ...   \n",
       "5797   카카오  2021-07-31  EfHM_K5sTt8   \n",
       "5798   카카오  2021-07-31  EfHM_K5sTt8   \n",
       "5799   카카오  2021-07-31  EKP0vM39oqc   \n",
       "5800   카카오  2021-07-31  EKP0vM39oqc   \n",
       "5801   카카오  2021-07-31  EKP0vM39oqc   \n",
       "\n",
       "                                                Comment  Comment Like  \\\n",
       "0     SK증권에서 5/21일 추천 드린 15개 종목은 다음과 같습니다.<br><br>1)...          26.0   \n",
       "1     니프티는 글로벌라이제아션때문에 오른거지 내수때매 오른건 아니지안나 진정한 내수주 네...           5.0   \n",
       "2     저는 솔직히 카카오 재섭어서 카드론 받아서 천만원 박았는데 수익나서 이번에 천만원 ...           2.0   \n",
       "3                                    카카오 담주 월욜에도 오를까요??           1.0   \n",
       "4     오늘 처음 왔어요<br>목소리 짱..설명짱입니다<br>카카오.네이버..지금 사도 괜...           4.0   \n",
       "...                                                 ...           ...   \n",
       "5797         영두형~~  나  카카오 145000에  100주 재입성했옹 잘한거맞징???          19.0   \n",
       "5798  파워풀회장님 임실장님<br>넘 잼나요 중독성 있어욤<br>좋은정보 희망적인 말씀 감...          17.0   \n",
       "5799                          카카오뱅크는 아시다시피 8월 6일 상장입니다.           5.0   \n",
       "5800  항상 감사드리고 주말에도 수고 많으십니다 많은 분들이 아시겠지만 카카오뱅크공모는 다...          13.0   \n",
       "5801          오늘도 유익한 정보 고맙습니다!! 카카오뱅크는 8월 6일(금) 상장입니다.           1.0   \n",
       "\n",
       "      Sentiment Score Sentiment  \n",
       "0            0.482406        긍정  \n",
       "1            0.255938        긍정  \n",
       "2            0.362936        긍정  \n",
       "3            0.557919        긍정  \n",
       "4            0.593762        긍정  \n",
       "...               ...       ...  \n",
       "5797         0.499954        긍정  \n",
       "5798         0.962954        긍정  \n",
       "5799         0.395436        긍정  \n",
       "5800         0.322591        긍정  \n",
       "5801         0.585281        긍정  \n",
       "\n",
       "[5802 rows x 7 columns]"
      ]
     },
     "execution_count": 17,
     "metadata": {},
     "output_type": "execute_result"
    }
   ],
   "source": [
    "#1만 조회수 이상인 영상의 댓글들의 감성분석 결과와 점수를 추가\n",
    "youtube['Sentiment Score'] = 0.0\n",
    "youtube['Sentiment'] = \"\"\n",
    "for i in range(len(youtube)):\n",
    "    youtube['Sentiment Score'][i] = predict_sentiment(youtube['Comment'][i])\n",
    "    if youtube['Sentiment Score'][i] > 0.5:\n",
    "        youtube['Sentiment'][i] = \"긍정\"\n",
    "    else:    \n",
    "        youtube['Sentiment'][i] = \"부정\"\n",
    "youtube"
   ]
  },
  {
   "cell_type": "code",
   "execution_count": 22,
   "id": "ea96336d",
   "metadata": {},
   "outputs": [],
   "source": [
    "youtube.to_csv(\"카카오 감성분석.csv\",index=False)"
   ]
  },
  {
   "cell_type": "code",
   "execution_count": null,
   "id": "04a5307f",
   "metadata": {},
   "outputs": [],
   "source": []
  }
 ],
 "metadata": {
  "kernelspec": {
   "display_name": "Python 3",
   "language": "python",
   "name": "python3"
  },
  "language_info": {
   "codemirror_mode": {
    "name": "ipython",
    "version": 3
   },
   "file_extension": ".py",
   "mimetype": "text/x-python",
   "name": "python",
   "nbconvert_exporter": "python",
   "pygments_lexer": "ipython3",
   "version": "3.8.7"
  }
 },
 "nbformat": 4,
 "nbformat_minor": 5
}
