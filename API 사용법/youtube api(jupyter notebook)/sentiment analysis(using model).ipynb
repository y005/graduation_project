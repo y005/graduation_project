{
 "cells": [
  {
   "cell_type": "code",
   "execution_count": 1,
   "id": "a0d017cf",
   "metadata": {},
   "outputs": [],
   "source": [
    "from konlpy.tag import Okt\n",
    "okt = Okt()"
   ]
  },
  {
   "cell_type": "code",
   "execution_count": 2,
   "id": "f08bc05f",
   "metadata": {},
   "outputs": [],
   "source": [
    "# 모델 불러오기(학습데이터: 네이버 영화 평가)\n",
    "from keras.models import load_model\n",
    "model = load_model('movie_review_model.h5')"
   ]
  },
  {
   "cell_type": "code",
   "execution_count": 3,
   "id": "d9407201",
   "metadata": {},
   "outputs": [],
   "source": [
    "def tokenize(doc):\n",
    "    #형태소와 품사를 join\n",
    "    return ['/'.join(t) for t in okt.pos(doc, norm=True, stem=True)]"
   ]
  },
  {
   "cell_type": "code",
   "execution_count": 4,
   "id": "3d9befc3",
   "metadata": {},
   "outputs": [],
   "source": [
    "import pandas as pd\n",
    "train_df = pd.read_csv(\"ratings_train.txt\", \"\\t\")"
   ]
  },
  {
   "cell_type": "code",
   "execution_count": 5,
   "id": "4b95d816",
   "metadata": {},
   "outputs": [],
   "source": [
    "train_df.isnull().any() #document에 null값이 있다.\n",
    "train_df['document'] = train_df['document'].fillna(''); #null값을 ''값으로 대체"
   ]
  },
  {
   "cell_type": "code",
   "execution_count": 6,
   "id": "ff196d56",
   "metadata": {},
   "outputs": [],
   "source": [
    "#tokenize 과정은 시간이 오래 걸릴수 있음...\n",
    "train_docs = [(tokenize(row[1]), row[2]) for row in train_df.values]"
   ]
  },
  {
   "cell_type": "code",
   "execution_count": 7,
   "id": "268c0a0a",
   "metadata": {},
   "outputs": [
    {
     "name": "stdout",
     "output_type": "stream",
     "text": [
      "토큰개수: 2159921\n"
     ]
    }
   ],
   "source": [
    "tokens = [t for d in train_docs for t in d[0]]\n",
    "print(\"토큰개수:\", len(tokens))"
   ]
  },
  {
   "cell_type": "code",
   "execution_count": 14,
   "id": "cd037279",
   "metadata": {},
   "outputs": [],
   "source": [
    "import nltk\n",
    "import numpy as np\n",
    "text = nltk.Text(tokens, name='NMSC')"
   ]
  },
  {
   "cell_type": "code",
   "execution_count": 29,
   "id": "8b4381bd",
   "metadata": {},
   "outputs": [],
   "source": [
    "FREQUENCY_COUNT = 100; #시간적 여유가 있다면 100개를 해보도록~\n",
    "selected_words = [f[0] for f in text.vocab().most_common(FREQUENCY_COUNT)]"
   ]
  },
  {
   "cell_type": "code",
   "execution_count": 30,
   "id": "34bdf60b",
   "metadata": {},
   "outputs": [],
   "source": [
    "#영화평가에서 사용된 단어리스트 문서에서 상위 100개들중 포함되는 단어들이 개수\n",
    "def term_frequency(doc):\n",
    "    return [doc.count(word) for word in selected_words]"
   ]
  },
  {
   "cell_type": "code",
   "execution_count": 31,
   "id": "b302ccbf",
   "metadata": {},
   "outputs": [],
   "source": [
    "def predict_sentiment(review):\n",
    "    token = tokenize(review)\n",
    "    tfq = term_frequency(token)\n",
    "    data = np.expand_dims(np.asarray(tfq).astype('float32'), axis=0)\n",
    "    score = float(model.predict(data))\n",
    "    if(score > 0.5):\n",
    "        print(f\"{review} ==> 긍정 ({round(score*100)}%)\")\n",
    "    else:\n",
    "        print(f\"{review} ==> 부정 ({round((1-score)*100)}%)\")"
   ]
  },
  {
   "cell_type": "code",
   "execution_count": 32,
   "id": "bd70d30c",
   "metadata": {},
   "outputs": [
    {
     "name": "stdout",
     "output_type": "stream",
     "text": [
      "재미 정말 없어요 ==> 부정 (92%)\n"
     ]
    }
   ],
   "source": [
    "predict_sentiment(\"재미 정말 없어요\")"
   ]
  },
  {
   "cell_type": "code",
   "execution_count": 33,
   "id": "fe584461",
   "metadata": {},
   "outputs": [
    {
     "name": "stdout",
     "output_type": "stream",
     "text": [
      "괜찮 ==> 긍정 (56%)\n"
     ]
    }
   ],
   "source": [
    "predict_sentiment(\"괜찮\")"
   ]
  },
  {
   "cell_type": "code",
   "execution_count": 34,
   "id": "dbe3b889",
   "metadata": {},
   "outputs": [
    {
     "name": "stdout",
     "output_type": "stream",
     "text": [
      "카카오 주가 전망 오히려 지금이 매력적인 이유 ==> 긍정 (75%)\n"
     ]
    }
   ],
   "source": [
    "predict_sentiment(\"카카오 주가 전망 오히려 지금이 매력적인 이유\")"
   ]
  },
  {
   "cell_type": "code",
   "execution_count": 35,
   "id": "c784d1ba",
   "metadata": {},
   "outputs": [
    {
     "name": "stdout",
     "output_type": "stream",
     "text": [
      "슈퍼개미가 카카오를 아직 팔지 않은 이유 (전업투자자 남석관) ==> 부정 (61%)\n"
     ]
    }
   ],
   "source": [
    "predict_sentiment(\"슈퍼개미가 카카오를 아직 팔지 않은 이유 (전업투자자 남석관)\")"
   ]
  },
  {
   "cell_type": "code",
   "execution_count": 36,
   "id": "52ebd5a0",
   "metadata": {},
   "outputs": [
    {
     "name": "stdout",
     "output_type": "stream",
     "text": [
      "청약 첫날 12조 몰린 카뱅…'따상' 커녕 반토막 우려, 왜?/ 박해린의 뉴스&마켓 /한국경제TV뉴스 ==> 부정 (69%)\n"
     ]
    }
   ],
   "source": [
    "predict_sentiment(\"청약 첫날 12조 몰린 카뱅…'따상' 커녕 반토막 우려, 왜?/ 박해린의 뉴스&마켓 /한국경제TV뉴스\")"
   ]
  },
  {
   "cell_type": "code",
   "execution_count": 37,
   "id": "823e0011",
   "metadata": {},
   "outputs": [
    {
     "name": "stdout",
     "output_type": "stream",
     "text": [
      "[카카오 주가] 카카오 카카오뱅크 2,600조 청약! 외국인, 기관 싹슬이 20만원 돌파 충분하다! ==> 긍정 (74%)\n"
     ]
    }
   ],
   "source": [
    "predict_sentiment(\"[카카오 주가] 카카오 카카오뱅크 2,600조 청약! 외국인, 기관 싹슬이 20만원 돌파 충분하다!\")"
   ]
  }
 ],
 "metadata": {
  "kernelspec": {
   "display_name": "Python 3",
   "language": "python",
   "name": "python3"
  },
  "language_info": {
   "codemirror_mode": {
    "name": "ipython",
    "version": 3
   },
   "file_extension": ".py",
   "mimetype": "text/x-python",
   "name": "python",
   "nbconvert_exporter": "python",
   "pygments_lexer": "ipython3",
   "version": "3.8.7"
  }
 },
 "nbformat": 4,
 "nbformat_minor": 5
}
